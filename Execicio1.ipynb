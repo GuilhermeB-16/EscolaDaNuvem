{
 "cells": [
  {
   "cell_type": "code",
   "execution_count": null,
   "id": "29cab4dc",
   "metadata": {},
   "outputs": [],
   "source": [
    "def calculadora():\n",
    "    try:\n",
    "        num1 = float(input(\"Digite o primeiro número: \"))\n",
    "    except ValueError:\n",
    "        print(\"Erro: o primeiro valor não é um número válido.\")\n",
    "        return\n",
    "\n",
    "    operador = input(\"Digite o operador (+, -, *, /): \")\n",
    "    if operador not in ['+', '-', '*', '/']:\n",
    "        print(\"Erro: operador inválido.\")\n",
    "        return\n",
    "\n",
    "    try:\n",
    "        num2 = float(input(\"Digite o segundo número: \"))\n",
    "    except ValueError:\n",
    "        print(\"Erro: o segundo valor não é um número válido.\")\n",
    "        return\n",
    "\n",
    "    try:\n",
    "        if operador == '+':\n",
    "            resultado = num1 + num2\n",
    "        elif operador == '-':\n",
    "            resultado = num1 - num2\n",
    "        elif operador == '*':\n",
    "            resultado = num1 * num2\n",
    "        elif operador == '/':\n",
    "            if num2 == 0:\n",
    "                print(\"Erro: divisão por zero.\")\n",
    "                return\n",
    "            resultado = num1 / num2\n",
    "\n",
    "        print(f\"Resultado: {resultado}\")\n",
    "    except Exception as e:\n",
    "        print(f\"Ocorreu um erro inesperado: {e}\")\n",
    "\n",
    "calculadora()\n"
   ]
  }
 ],
 "metadata": {
  "language_info": {
   "name": "python"
  }
 },
 "nbformat": 4,
 "nbformat_minor": 5
}
