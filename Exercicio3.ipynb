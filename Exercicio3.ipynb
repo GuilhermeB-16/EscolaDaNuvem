{
 "cells": [
  {
   "cell_type": "code",
   "execution_count": 26,
   "id": "c81e9933",
   "metadata": {},
   "outputs": [
    {
     "name": "stdout",
     "output_type": "stream",
     "text": [
      "O valor da gorjeta é R$ 3.0\n"
     ]
    }
   ],
   "source": [
    "valorConta = float(input(\"Digite o valor da conta\"))\n",
    "PorcenGorjeta = 0.15\n",
    "\n",
    "def Gorjeta(valor_conta, PorcenGorjeta):\n",
    "    resultado = valor_conta * PorcenGorjeta\n",
    "    return resultado\n",
    "\n",
    "Gorjeta(valorConta,PorcenGorjeta)\n",
    "print(\"O valor da gorjeta é R$\", Gorjeta(valorConta, PorcenGorjeta))\n",
    "\n",
    "\n",
    "\n",
    "\n"
   ]
  }
 ],
 "metadata": {
  "kernelspec": {
   "display_name": "Python 3",
   "language": "python",
   "name": "python3"
  },
  "language_info": {
   "codemirror_mode": {
    "name": "ipython",
    "version": 3
   },
   "file_extension": ".py",
   "mimetype": "text/x-python",
   "name": "python",
   "nbconvert_exporter": "python",
   "pygments_lexer": "ipython3",
   "version": "3.13.3"
  }
 },
 "nbformat": 4,
 "nbformat_minor": 5
}
