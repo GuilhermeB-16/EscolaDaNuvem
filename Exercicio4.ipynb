{
 "cells": [
  {
   "cell_type": "code",
   "execution_count": null,
   "id": "e1f63b05",
   "metadata": {},
   "outputs": [
    {
     "name": "stdout",
     "output_type": "stream",
     "text": [
      "Senha inválida. A senha deve conter exatamente 8 caracteres.\n",
      "Senha inválida. A senha deve conter exatamente 8 caracteres.\n",
      "Senha inválida. A senha deve conter exatamente 8 caracteres.\n",
      "Senha inválida. A senha deve conter exatamente 8 caracteres.\n",
      "Senha inválida. A senha deve conter pelo menos uma letra.\n",
      "Senha válida: 123456E7\n"
     ]
    }
   ],
   "source": [
    "while True:\n",
    "    senha = input(\"Digite sua senha (deve conter pelo menos uma letra): \")\n",
    "\n",
    "    if senha.lower() == \"sair\":\n",
    "        print(\"Encerrando o programa\")\n",
    "        break\n",
    "\n",
    "    if len(senha) != 8:\n",
    "        print(\"Senha inválida. A senha deve conter exatamente 8 caracteres.\")\n",
    "        continue\n",
    "\n",
    "    if any(char.isalpha() for char in senha):\n",
    "        print(\"Senha válida:\", senha)\n",
    "        break\n",
    "    else:\n",
    "        print(\"Senha inválida. A senha deve conter pelo menos uma letra.\")\n",
    "\n",
    "\n"
   ]
  }
 ],
 "metadata": {
  "kernelspec": {
   "display_name": "Python 3",
   "language": "python",
   "name": "python3"
  },
  "language_info": {
   "codemirror_mode": {
    "name": "ipython",
    "version": 3
   },
   "file_extension": ".py",
   "mimetype": "text/x-python",
   "name": "python",
   "nbconvert_exporter": "python",
   "pygments_lexer": "ipython3",
   "version": "3.13.3"
  }
 },
 "nbformat": 4,
 "nbformat_minor": 5
}
