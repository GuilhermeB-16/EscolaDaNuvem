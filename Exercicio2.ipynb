{
 "cells": [
  {
   "cell_type": "code",
   "execution_count": 3,
   "id": "d4e49590",
   "metadata": {},
   "outputs": [
    {
     "name": "stdout",
     "output_type": "stream",
     "text": [
      "Média da sala de aula é: 7.8\n",
      "Notas digitadas: [10, 7, 8, 6]\n"
     ]
    }
   ],
   "source": [
    "notas = []\n",
    "\n",
    "while True:\n",
    "    nota = (input(\"Digite a nota (ou 'fim' para encerrar): \"))\n",
    "    \n",
    "    \n",
    "    if nota.lower() == 'fim':\n",
    "        break\n",
    "\n",
    "    try:\n",
    "        nota = int(nota)\n",
    "        if nota < 0 or nota > 10:\n",
    "            print(\"A nota deve estar entre 0 e 10.\")\n",
    "            continue  # Volta pro início do while\n",
    "            \n",
    "        notas.append(nota)\n",
    "    except ValueError:\n",
    "        print(\"Digite um número válido ou 'fim'.\")\n",
    "\n",
    "def media():\n",
    "    if len(notas) == 0:\n",
    "        return 0  \n",
    "    return sum(notas) / len(notas)\n",
    "\n",
    "print(f\"Média da sala de aula é: {media():.1f}\")\n",
    "print(\"Notas digitadas:\", notas)\n",
    "\n",
    "\n",
    "\n",
    "\n",
    "\n"
   ]
  }
 ],
 "metadata": {
  "kernelspec": {
   "display_name": "Python 3",
   "language": "python",
   "name": "python3"
  },
  "language_info": {
   "codemirror_mode": {
    "name": "ipython",
    "version": 3
   },
   "file_extension": ".py",
   "mimetype": "text/x-python",
   "name": "python",
   "nbconvert_exporter": "python",
   "pygments_lexer": "ipython3",
   "version": "3.13.3"
  }
 },
 "nbformat": 4,
 "nbformat_minor": 5
}
